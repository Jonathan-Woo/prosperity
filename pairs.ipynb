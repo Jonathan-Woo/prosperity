{
 "cells": [
  {
   "cell_type": "code",
   "execution_count": 1,
   "id": "40ccb8b8",
   "metadata": {},
   "outputs": [],
   "source": [
    "import numpy as np\n",
    "import pandas as pd\n",
    "import matplotlib.pyplot as plt\n",
    "from statsmodels.graphics.tsaplots import plot_acf, plot_pacf\n",
    "\n",
    "from statsmodels.tsa.stattools import coint\n",
    "from statsmodels.tsa.stattools import adfuller"
   ]
  },
  {
   "cell_type": "code",
   "execution_count": 2,
   "id": "3fd1321c",
   "metadata": {},
   "outputs": [],
   "source": [
    "day0 = pd.read_csv('./round2/prices_round_2_day_-1.csv', sep=\";\")\n",
    "day1 = pd.read_csv('./round2/prices_round_2_day_0.csv', sep=\";\")\n",
    "day2 = pd.read_csv('./round2/prices_round_2_day_1.csv', sep=\";\")\n",
    "\n",
    "day0['timestamp'] = day0['timestamp'] \n",
    "day1['timestamp'] = (day1['timestamp'] + 1000000) \n",
    "day2['timestamp'] = (day2['timestamp'] + 2000000) "
   ]
  },
  {
   "cell_type": "code",
   "execution_count": 3,
   "id": "9fbb444f",
   "metadata": {},
   "outputs": [],
   "source": [
    "df = pd.concat([day0, day1, day2])\n",
    "df_c = df[df['product'] == \"COCONUTS\"]\n",
    "df_p = df[df['product'] == \"PINA_COLADAS\"]\n",
    "\n",
    "df_c.set_index('timestamp', inplace=True)\n",
    "df_p.set_index('timestamp', inplace=True)\n",
    "\n",
    "df_c.index = df_c.index.astype('int64')\n",
    "df_p.index = df_p.index.astype('int64')"
   ]
  },
  {
   "cell_type": "code",
   "execution_count": 4,
   "id": "7756f524",
   "metadata": {},
   "outputs": [
    {
     "data": {
      "text/plain": [
       "[<matplotlib.lines.Line2D at 0x7fce719604c0>]"
      ]
     },
     "execution_count": 4,
     "metadata": {},
     "output_type": "execute_result"
    },
    {
     "data": {
      "image/png": "[encoded data removed]",
      "text/plain": [
       "<Figure size 576x288 with 1 Axes>"
      ]
     },
     "metadata": {
      "needs_background": "light"
     },
     "output_type": "display_data"
    }
   ],
   "source": [
    "plt.figure(figsize=(8,4))\n",
    "plt.plot(df_c['mid_price'])\n",
    "plt.plot(df_p['mid_price'])"
   ]
  },
  {
   "cell_type": "code",
   "execution_count": 5,
   "id": "9b072d55",
   "metadata": {},
   "outputs": [],
   "source": [
    "mu = np.mean(df_p['mid_price'].values - df_c['mid_price'].values)\n",
    "var = np.var(df_p['mid_price'].values - df_c['mid_price'].values - mu)"
   ]
  },
  {
   "cell_type": "code",
   "execution_count": 6,
   "id": "444e3795",
   "metadata": {},
   "outputs": [
    {
     "data": {
      "text/plain": [
       "(-4.167430876030964,\n",
       " 0.004084654579065286,\n",
       " array([-3.89680511, -3.33633368, -3.04459138]))"
      ]
     },
     "execution_count": 6,
     "metadata": {},
     "output_type": "execute_result"
    }
   ],
   "source": [
    "coint(df_p['mid_price'].values, df_c['mid_price'].values)"
   ]
  },
  {
   "cell_type": "code",
   "execution_count": 7,
   "id": "e3310eca",
   "metadata": {},
   "outputs": [
    {
     "data": {
      "text/plain": [
       "0.9604128054367347"
      ]
     },
     "execution_count": 7,
     "metadata": {},
     "output_type": "execute_result"
    }
   ],
   "source": [
    "df_p['mid_price'].corr(df_c['mid_price'])"
   ]
  },
  {
   "cell_type": "code",
   "execution_count": 8,
   "id": "e4adffe9",
   "metadata": {},
   "outputs": [
    {
     "data": {
      "text/plain": [
       "(-2.68354445409723,\n",
       " 0.07692933967820255,\n",
       " 2,\n",
       " 29997,\n",
       " {'1%': -3.430568017124298,\n",
       "  '5%': -2.8616363576754993,\n",
       "  '10%': -2.566821288250248},\n",
       " 117930.57335718954)"
      ]
     },
     "execution_count": 8,
     "metadata": {},
     "output_type": "execute_result"
    }
   ],
   "source": [
    "adfuller(df_p['mid_price'].values - df_c['mid_price'].values - mu)"
   ]
  },
  {
   "cell_type": "code",
   "execution_count": 9,
   "id": "423e117f",
   "metadata": {},
   "outputs": [
    {
     "data": {
      "text/plain": [
       "(-2.683839212256461,\n",
       " 0.0768767833146989,\n",
       " 2,\n",
       " 29997,\n",
       " {'1%': -3.430568017124298,\n",
       "  '5%': -2.8616363576754993,\n",
       "  '10%': -2.566821288250248},\n",
       " -458099.6264857068)"
      ]
     },
     "execution_count": 9,
     "metadata": {},
     "output_type": "execute_result"
    }
   ],
   "source": [
    "adfuller(df_p['mid_price'].values / (df_c['mid_price'].values + mu))"
   ]
  },
  {
   "cell_type": "code",
   "execution_count": 10,
   "id": "42a3fcd6",
   "metadata": {},
   "outputs": [
    {
     "name": "stdout",
     "output_type": "stream",
     "text": [
      "0 0.07692933967840468\n",
      "1 0.06740435275762242\n",
      "2 0.05860389969512867\n",
      "3 0.05054661265316918\n",
      "4 0.04324031295900049\n",
      "5 0.03668156333390423\n",
      "6 0.030855658125677397\n",
      "7 0.025737089747970066\n",
      "8 0.021290495475948707\n",
      "9 0.017472049266771972\n",
      "10 0.014231222732639047\n",
      "11 0.011512803229645777\n",
      "12 0.009259030878873364\n",
      "13 0.007411704925437084\n",
      "14 0.0059141158151403\n",
      "15 0.004712682467670553\n",
      "16 0.0037582110647246883\n",
      "17 0.0030067363037695203\n",
      "18 0.0024199512469103733\n",
      "19 0.0019652707069827626\n",
      "20 0.0016156004970811024\n",
      "21 0.0013488985586109286\n",
      "22 0.0011476146326378802\n",
      "23 0.0009980856868207343\n",
      "24 0.0008899488685005509\n",
      "25 0.0008156164531411113\n",
      "26 0.0007698413699473129\n",
      "27 0.000749389406160664\n",
      "28 0.0007528258224156952\n",
      "29 0.0007804195248875608\n",
      "30 0.0008341661165521099\n",
      "31 0.0009179306826216729\n",
      "32 0.0010377104777061913\n",
      "33 0.001202015192055734\n",
      "34 0.0014223567701094255\n",
      "35 0.0017138308520380438\n",
      "36 0.002095757601161398\n",
      "37 0.002592331918529576\n",
      "38 0.0032332141999300685\n",
      "39 0.004053976588060409\n",
      "40 0.005096310667218222\n",
      "41 0.006407905105907264\n",
      "42 0.008041918768731803\n",
      "43 0.010056006554638354\n",
      "44 0.012510898713818028\n",
      "45 0.015468583741818557\n",
      "46 0.018990192451580935\n",
      "47 0.023133718703677628\n",
      "48 0.027951734427660198\n",
      "49 0.03348925984642672\n",
      "50 0.039781934483147215\n",
      "51 0.04685460393285677\n",
      "52 0.05472039690477443\n",
      "53 0.06338032287778134\n",
      "54 0.07282337863302159\n",
      "55 0.08302711642544103\n",
      "56 0.09395860039815479\n",
      "57 0.105575662048001\n",
      "58 0.11782835965904664\n",
      "59 0.13066054913497732\n",
      "60 0.14401148251848617\n",
      "61 0.15781736346836583\n",
      "62 0.17201280401772195\n",
      "63 0.1865321423513716\n",
      "64 0.20131059584349753\n",
      "65 0.21628523635278712\n",
      "66 0.23139578533076266\n",
      "67 0.2465852345198946\n",
      "68 0.26180030398833043\n",
      "69 0.27699175319354946\n",
      "70 0.29211456300087046\n",
      "71 0.30712800743839797\n",
      "72 0.3219956337758433\n",
      "73 0.33668516856942676\n",
      "74 0.35116836587201505\n",
      "75 0.36542081207610577\n",
      "76 0.37942169999632386\n",
      "77 0.3931535829333777\n",
      "78 0.4066021176703026\n",
      "79 0.4197558036962806\n",
      "80 0.43260572446186574\n",
      "81 0.4451452951564\n",
      "82 0.4573700203678248\n",
      "83 0.4692772640287229\n",
      "84 0.48133442671908894\n",
      "85 0.49209321260064454\n",
      "86 0.5025096346289929\n",
      "87 0.5125904241899635\n",
      "88 0.522342978886497\n",
      "89 0.5317752179692186\n",
      "90 0.5408954563872835\n",
      "91 0.5497122956745452\n",
      "92 0.5582345299597904\n",
      "93 0.5664710654860808\n",
      "94 0.5744308521369645\n",
      "95 0.5821228255816682\n",
      "96 0.5895558587724344\n",
      "97 0.5967387216440877\n",
      "98 0.6036800479777746\n",
      "99 0.610388308499282\n",
      "100 0.6168717893808935\n",
      "101 0.6231385754092204\n",
      "102 0.629196537165023\n",
      "103 0.6350533216389509\n",
      "104 0.6407163457764512\n",
      "105 0.646192792506912\n",
      "106 0.6514896088695756\n",
      "107 0.6566135058968325\n",
      "108 0.6615709599612494\n",
      "109 0.6663682153315124\n",
      "110 0.6710112877159813\n",
      "111 0.6755059686048136\n",
      "112 0.6798578302467929\n",
      "113 0.6840722311208165\n",
      "114 0.6881543217834738\n",
      "115 0.6921090509897355\n",
      "116 0.695941172001655\n",
      "117 0.6996552490121091\n",
      "118 0.7032556636223162\n",
      "119 0.7067466213228191\n",
      "120 0.7101321579352893\n",
      "121 0.7134161459805144\n",
      "122 0.7166023009450906\n",
      "123 0.7196941874230769\n",
      "124 0.7226952251158462\n",
      "125 0.7256086946753298\n",
      "126 0.7284377433809411\n",
      "127 0.7311853906423702\n",
      "128 0.733854533323054\n",
      "129 0.7364479508880653\n",
      "130 0.7389683103372116\n",
      "131 0.7414181710176\n",
      "132 0.7437999891916622\n",
      "133 0.7461161224573207\n",
      "134 0.7483688339852207\n",
      "135 0.7505602965836409\n",
      "136 0.7526925965949514\n",
      "137 0.7547677376283057\n",
      "138 0.7567876441335999\n",
      "139 0.7587541648215597\n",
      "140 0.7606690759353487\n",
      "141 0.7625340843790145\n",
      "142 0.76435083070774\n",
      "143 0.7661208919858138\n",
      "144 0.7678457845168636\n",
      "145 0.7695269664520616\n",
      "146 0.7711658402809382\n",
      "147 0.7727637552101234\n",
      "148 0.7743220094348222\n",
      "149 0.7758418523068189\n",
      "150 0.7773244864052176\n",
      "151 0.778771069512552\n",
      "152 0.7801827165018899\n",
      "153 0.7815605011377595\n",
      "154 0.7829054577960517\n",
      "155 0.7842185831055204\n",
      "156 0.7855008375151381\n",
      "157 0.7867531467909226\n",
      "158 0.7879764034446801\n",
      "159 0.7891714680988058\n",
      "160 0.7903391707895584\n",
      "161 0.791480312211734\n",
      "162 0.792595664907966\n",
      "163 0.7936859744044396\n",
      "164 0.7947519602964872\n",
      "165 0.7957943172856466\n",
      "166 0.7968137161709989\n",
      "167 0.7978108047963846\n",
      "168 0.7987862089566553\n",
      "169 0.7997405332631301\n",
      "170 0.8006743619723372\n",
      "171 0.8015882597776067\n",
      "172 0.8024827725670614\n",
      "173 0.8033584281484614\n",
      "174 0.8042157369426909\n",
      "175 0.8050551926480217\n",
      "176 0.8058772728751649\n",
      "177 0.8066824397558321\n",
      "178 0.8074711405253414\n",
      "179 0.8082438080805574\n",
      "180 0.8090008615141804\n",
      "181 0.8097427066269532\n",
      "182 0.8104697364181528\n",
      "183 0.8111823315559115\n",
      "184 0.8118808608279249\n",
      "185 0.8125656815735844\n",
      "186 0.8132371400984366\n",
      "187 0.8138955720716095\n",
      "188 0.8145413029071038\n",
      "189 0.8151746481295187\n",
      "190 0.8157959137251762\n",
      "191 0.8164053964791147\n",
      "192 0.8170033842983387\n",
      "193 0.8175901565224544\n",
      "194 0.8181659842219791\n",
      "195 0.8187311304847371\n",
      "196 0.8192858506909444\n",
      "197 0.819830392777773\n",
      "198 0.8203649974933339\n",
      "199 0.8208898986410438\n"
     ]
    }
   ],
   "source": [
    "# iterate to find the best beta\n",
    "results = []\n",
    "for i, beta in enumerate(np.linspace(1, 5, 200)):\n",
    "    result = adfuller(df_p['mid_price'].values - beta * df_c['mid_price'].values)[1]\n",
    "    results.append(result)\n",
    "    print(i, result)"
   ]
  },
  {
   "cell_type": "code",
   "execution_count": 11,
   "id": "842db8fe",
   "metadata": {},
   "outputs": [],
   "source": [
    "beta = np.linspace(1, 5, 200)[27]"
   ]
  },
  {
   "cell_type": "code",
   "execution_count": 12,
   "id": "6af2dc33",
   "metadata": {},
   "outputs": [
    {
     "data": {
      "text/plain": [
       "(-4.166855776370202,\n",
       " 0.000749389406160664,\n",
       " 2,\n",
       " 29997,\n",
       " {'1%': -3.430568017124298,\n",
       "  '5%': -2.8616363576754993,\n",
       "  '10%': -2.566821288250248},\n",
       " 115662.40851181776)"
      ]
     },
     "execution_count": 12,
     "metadata": {},
     "output_type": "execute_result"
    }
   ],
   "source": [
    "adfuller(df_p['mid_price'].values - beta * df_c['mid_price'].values)"
   ]
  },
  {
   "cell_type": "code",
   "execution_count": 13,
   "id": "018877bc",
   "metadata": {},
   "outputs": [],
   "source": [
    "mu = np.mean(df_p['mid_price'].values - beta * df_c['mid_price'].values)\n",
    "var = np.var(df_p['mid_price'].values - beta * df_c['mid_price'].values - mu)"
   ]
  },
  {
   "cell_type": "code",
   "execution_count": 14,
   "id": "41c5fdc8",
   "metadata": {
    "scrolled": true
   },
   "outputs": [
    {
     "data": {
      "text/plain": [
       "2661.3068421273024"
      ]
     },
     "execution_count": 14,
     "metadata": {},
     "output_type": "execute_result"
    }
   ],
   "source": [
    "# the alpha\n",
    "mu"
   ]
  },
  {
   "cell_type": "code",
   "execution_count": 15,
   "id": "48b2a081",
   "metadata": {},
   "outputs": [
    {
     "data": {
      "text/plain": [
       "30.536447127592428"
      ]
     },
     "execution_count": 15,
     "metadata": {},
     "output_type": "execute_result"
    }
   ],
   "source": [
    "# the standard deviation\n",
    "np.sqrt(var)"
   ]
  },
  {
   "cell_type": "code",
   "execution_count": 16,
   "id": "8d73fb79",
   "metadata": {},
   "outputs": [
    {
     "data": {
      "text/plain": [
       "<matplotlib.lines.Line2D at 0x7fce31f28fa0>"
      ]
     },
     "execution_count": 16,
     "metadata": {},
     "output_type": "execute_result"
    },
    {
     "data": {
      "image/png": "[encoded data removed]",
      "text/plain": [
       "<Figure size 432x288 with 1 Axes>"
      ]
     },
     "metadata": {
      "needs_background": "light"
     },
     "output_type": "display_data"
    }
   ],
   "source": [
    "# tune the parameters\n",
    "plt.plot(df_p['mid_price'].values - beta * df_c['mid_price'].values)\n",
    "plt.axhline(mu+0.2*np.sqrt(var))\n",
    "plt.axhline(mu)\n",
    "plt.axhline(mu-0.2*np.sqrt(var))"
   ]
  },
  {
   "cell_type": "code",
   "execution_count": null,
   "id": "d0ff0cb9",
   "metadata": {},
   "outputs": [],
   "source": []
  }
 ],
 "metadata": {
  "kernelspec": {
   "display_name": "Python 3 (ipykernel)",
   "language": "python",
   "name": "python3"
  },
  "language_info": {
   "codemirror_mode": {
    "name": "ipython",
    "version": 3
   },
   "file_extension": ".py",
   "mimetype": "text/x-python",
   "name": "python",
   "nbconvert_exporter": "python",
   "pygments_lexer": "ipython3",
   "version": "3.9.12"
  }
 },
 "nbformat": 4,
 "nbformat_minor": 5
}
